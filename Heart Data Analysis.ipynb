{
 "cells": [
  {
   "cell_type": "markdown",
   "metadata": {
    "application/vnd.databricks.v1+cell": {
     "cellMetadata": {
      "byteLimit": 2048000,
      "rowLimit": 10000
     },
     "inputWidgets": {},
     "nuid": "96816ed7-b08a-4ca3-abb9-f99880c3535d",
     "showTitle": false,
     "title": ""
    }
   },
   "source": [
    "\n",
    "## Overview\n",
    "\n",
    "This notebook will show you how to create and query a table or DataFrame that you uploaded to DBFS. [DBFS](https://docs.databricks.com/user-guide/dbfs-databricks-file-system.html) is a Databricks File System that allows you to store data for querying inside of Databricks. This notebook assumes that you have a file already inside of DBFS that you would like to read from.\n",
    "\n",
    "This notebook is written in **Python** so the default cell type is Python. However, you can use different languages by using the `%LANGUAGE` syntax. Python, Scala, SQL, and R are all supported."
   ]
  },
  {
   "cell_type": "code",
   "execution_count": 0,
   "metadata": {
    "application/vnd.databricks.v1+cell": {
     "cellMetadata": {
      "byteLimit": 2048000,
      "rowLimit": 10000
     },
     "inputWidgets": {},
     "nuid": "c464c90f-70bd-43ca-a555-a21c6f273af7",
     "showTitle": false,
     "title": ""
    }
   },
   "outputs": [
    {
     "output_type": "stream",
     "name": "stdout",
     "output_type": "stream",
     "text": [
      "+---+---+-------------+---------+-----------+---------+----------+-----+--------------+-------+--------+------------+\n|Age|Sex|ChestPainType|RestingBP|Cholesterol|FastingBS|RestingECG|MaxHR|ExerciseAngina|Oldpeak|ST_Slope|HeartDisease|\n+---+---+-------------+---------+-----------+---------+----------+-----+--------------+-------+--------+------------+\n| 40|  M|          ATA|      140|        289|        0|    Normal|  172|             N|    0.0|      Up|           0|\n| 49|  F|          NAP|      160|        180|        0|    Normal|  156|             N|    1.0|    Flat|           1|\n| 37|  M|          ATA|      130|        283|        0|        ST|   98|             N|    0.0|      Up|           0|\n| 48|  F|          ASY|      138|        214|        0|    Normal|  108|             Y|    1.5|    Flat|           1|\n| 54|  M|          NAP|      150|        195|        0|    Normal|  122|             N|    0.0|      Up|           0|\n+---+---+-------------+---------+-----------+---------+----------+-----+--------------+-------+--------+------------+\nonly showing top 5 rows\n\n"
     ]
    }
   ],
   "source": [
    "# Load CSV file into DataFrame with correct headers\n",
    "df = spark.read.csv(\"/FileStore/tables/heart.csv\", header=True, inferSchema=True)\n",
    "\n",
    "# Check the first few rows\n",
    "df.show(5)\n"
   ]
  },
  {
   "cell_type": "code",
   "execution_count": 0,
   "metadata": {
    "application/vnd.databricks.v1+cell": {
     "cellMetadata": {
      "byteLimit": 2048000,
      "rowLimit": 10000
     },
     "inputWidgets": {},
     "nuid": "bd82bb99-1479-4d5c-be10-8c36df0f1d44",
     "showTitle": false,
     "title": ""
    }
   },
   "outputs": [],
   "source": [
    "# Create a temporary SQL table with correct column names\n",
    "df.createOrReplaceTempView(\"heart_data\")"
   ]
  },
  {
   "cell_type": "code",
   "execution_count": 0,
   "metadata": {
    "application/vnd.databricks.v1+cell": {
     "cellMetadata": {
      "byteLimit": 2048000,
      "implicitDf": true,
      "rowLimit": 10000
     },
     "inputWidgets": {},
     "nuid": "b5f66379-6f7f-42ec-8e82-d0e0926a1721",
     "showTitle": false,
     "title": ""
    }
   },
   "outputs": [
    {
     "output_type": "display_data",
     "data": {
      "text/html": [
       "<style scoped>\n",
       "  .table-result-container {\n",
       "    max-height: 300px;\n",
       "    overflow: auto;\n",
       "  }\n",
       "  table, th, td {\n",
       "    border: 1px solid black;\n",
       "    border-collapse: collapse;\n",
       "  }\n",
       "  th, td {\n",
       "    padding: 5px;\n",
       "  }\n",
       "  th {\n",
       "    text-align: left;\n",
       "  }\n",
       "</style><div class='table-result-container'><table class='table-result'><thead style='background-color: white'><tr><th>Age</th><th>Sex</th><th>ChestPainType</th><th>RestingBP</th><th>Cholesterol</th><th>FastingBS</th><th>RestingECG</th><th>MaxHR</th><th>ExerciseAngina</th><th>Oldpeak</th><th>ST_Slope</th><th>HeartDisease</th></tr></thead><tbody><tr><td>40</td><td>M</td><td>ATA</td><td>140</td><td>289</td><td>0</td><td>Normal</td><td>172</td><td>N</td><td>0.0</td><td>Up</td><td>0</td></tr><tr><td>49</td><td>F</td><td>NAP</td><td>160</td><td>180</td><td>0</td><td>Normal</td><td>156</td><td>N</td><td>1.0</td><td>Flat</td><td>1</td></tr><tr><td>37</td><td>M</td><td>ATA</td><td>130</td><td>283</td><td>0</td><td>ST</td><td>98</td><td>N</td><td>0.0</td><td>Up</td><td>0</td></tr><tr><td>48</td><td>F</td><td>ASY</td><td>138</td><td>214</td><td>0</td><td>Normal</td><td>108</td><td>Y</td><td>1.5</td><td>Flat</td><td>1</td></tr><tr><td>54</td><td>M</td><td>NAP</td><td>150</td><td>195</td><td>0</td><td>Normal</td><td>122</td><td>N</td><td>0.0</td><td>Up</td><td>0</td></tr><tr><td>39</td><td>M</td><td>NAP</td><td>120</td><td>339</td><td>0</td><td>Normal</td><td>170</td><td>N</td><td>0.0</td><td>Up</td><td>0</td></tr><tr><td>45</td><td>F</td><td>ATA</td><td>130</td><td>237</td><td>0</td><td>Normal</td><td>170</td><td>N</td><td>0.0</td><td>Up</td><td>0</td></tr><tr><td>54</td><td>M</td><td>ATA</td><td>110</td><td>208</td><td>0</td><td>Normal</td><td>142</td><td>N</td><td>0.0</td><td>Up</td><td>0</td></tr><tr><td>37</td><td>M</td><td>ASY</td><td>140</td><td>207</td><td>0</td><td>Normal</td><td>130</td><td>Y</td><td>1.5</td><td>Flat</td><td>1</td></tr><tr><td>48</td><td>F</td><td>ATA</td><td>120</td><td>284</td><td>0</td><td>Normal</td><td>120</td><td>N</td><td>0.0</td><td>Up</td><td>0</td></tr></tbody></table></div>"
      ]
     },
     "metadata": {
      "application/vnd.databricks.v1+output": {
       "addedWidgets": {},
       "aggData": [],
       "aggError": "",
       "aggOverflow": false,
       "aggSchema": [],
       "aggSeriesLimitReached": false,
       "aggType": "",
       "arguments": {},
       "columnCustomDisplayInfos": {},
       "data": [
        [
         40,
         "M",
         "ATA",
         140,
         289,
         0,
         "Normal",
         172,
         "N",
         0.0,
         "Up",
         0
        ],
        [
         49,
         "F",
         "NAP",
         160,
         180,
         0,
         "Normal",
         156,
         "N",
         1.0,
         "Flat",
         1
        ],
        [
         37,
         "M",
         "ATA",
         130,
         283,
         0,
         "ST",
         98,
         "N",
         0.0,
         "Up",
         0
        ],
        [
         48,
         "F",
         "ASY",
         138,
         214,
         0,
         "Normal",
         108,
         "Y",
         1.5,
         "Flat",
         1
        ],
        [
         54,
         "M",
         "NAP",
         150,
         195,
         0,
         "Normal",
         122,
         "N",
         0.0,
         "Up",
         0
        ],
        [
         39,
         "M",
         "NAP",
         120,
         339,
         0,
         "Normal",
         170,
         "N",
         0.0,
         "Up",
         0
        ],
        [
         45,
         "F",
         "ATA",
         130,
         237,
         0,
         "Normal",
         170,
         "N",
         0.0,
         "Up",
         0
        ],
        [
         54,
         "M",
         "ATA",
         110,
         208,
         0,
         "Normal",
         142,
         "N",
         0.0,
         "Up",
         0
        ],
        [
         37,
         "M",
         "ASY",
         140,
         207,
         0,
         "Normal",
         130,
         "Y",
         1.5,
         "Flat",
         1
        ],
        [
         48,
         "F",
         "ATA",
         120,
         284,
         0,
         "Normal",
         120,
         "N",
         0.0,
         "Up",
         0
        ]
       ],
       "datasetInfos": [],
       "dbfsResultPath": null,
       "isJsonSchema": true,
       "metadata": {},
       "overflow": false,
       "plotOptions": {
        "customPlotOptions": {},
        "displayType": "table",
        "pivotAggregation": null,
        "pivotColumns": null,
        "xColumns": null,
        "yColumns": null
       },
       "removedWidgets": [],
       "schema": [
        {
         "metadata": "{}",
         "name": "Age",
         "type": "\"integer\""
        },
        {
         "metadata": "{}",
         "name": "Sex",
         "type": "\"string\""
        },
        {
         "metadata": "{}",
         "name": "ChestPainType",
         "type": "\"string\""
        },
        {
         "metadata": "{}",
         "name": "RestingBP",
         "type": "\"integer\""
        },
        {
         "metadata": "{}",
         "name": "Cholesterol",
         "type": "\"integer\""
        },
        {
         "metadata": "{}",
         "name": "FastingBS",
         "type": "\"integer\""
        },
        {
         "metadata": "{}",
         "name": "RestingECG",
         "type": "\"string\""
        },
        {
         "metadata": "{}",
         "name": "MaxHR",
         "type": "\"integer\""
        },
        {
         "metadata": "{}",
         "name": "ExerciseAngina",
         "type": "\"string\""
        },
        {
         "metadata": "{}",
         "name": "Oldpeak",
         "type": "\"double\""
        },
        {
         "metadata": "{}",
         "name": "ST_Slope",
         "type": "\"string\""
        },
        {
         "metadata": "{}",
         "name": "HeartDisease",
         "type": "\"integer\""
        }
       ],
       "type": "table"
      }
     },
     "output_type": "display_data"
    }
   ],
   "source": [
    "%sql\n",
    "\n",
    "/* Query the created temp table in a SQL cell */\n",
    "\n",
    "select * from `heart_data` \n",
    "LIMIT 10"
   ]
  },
  {
   "cell_type": "code",
   "execution_count": 0,
   "metadata": {
    "application/vnd.databricks.v1+cell": {
     "cellMetadata": {
      "byteLimit": 2048000,
      "implicitDf": true,
      "rowLimit": 10000
     },
     "inputWidgets": {},
     "nuid": "8417c914-a9ae-485f-98ed-7975a0aa3732",
     "showTitle": false,
     "title": ""
    }
   },
   "outputs": [
    {
     "output_type": "display_data",
     "data": {
      "text/html": [
       "<style scoped>\n",
       "  .table-result-container {\n",
       "    max-height: 300px;\n",
       "    overflow: auto;\n",
       "  }\n",
       "  table, th, td {\n",
       "    border: 1px solid black;\n",
       "    border-collapse: collapse;\n",
       "  }\n",
       "  th, td {\n",
       "    padding: 5px;\n",
       "  }\n",
       "  th {\n",
       "    text-align: left;\n",
       "  }\n",
       "</style><div class='table-result-container'><table class='table-result'><thead style='background-color: white'><tr><th>Age</th><th>Avg_Cholesterol</th></tr></thead><tbody><tr><td>31</td><td>244.5</td></tr><tr><td>65</td><td>207.57142857142858</td></tr><tr><td>53</td><td>181.03030303030303</td></tr><tr><td>34</td><td>163.28571428571428</td></tr><tr><td>28</td><td>132.0</td></tr><tr><td>76</td><td>155.0</td></tr><tr><td>44</td><td>249.57894736842104</td></tr><tr><td>47</td><td>193.42105263157896</td></tr><tr><td>52</td><td>200.27777777777777</td></tr><tr><td>40</td><td>229.3846153846154</td></tr><tr><td>57</td><td>202.31578947368422</td></tr><tr><td>54</td><td>231.98039215686273</td></tr><tr><td>48</td><td>228.19354838709677</td></tr><tr><td>64</td><td>205.3181818181818</td></tr><tr><td>41</td><td>216.5</td></tr><tr><td>43</td><td>202.33333333333334</td></tr><tr><td>37</td><td>233.72727272727272</td></tr><tr><td>61</td><td>162.58064516129033</td></tr><tr><td>72</td><td>137.0</td></tr><tr><td>35</td><td>197.45454545454547</td></tr><tr><td>59</td><td>175.71428571428572</td></tr><tr><td>55</td><td>218.46341463414635</td></tr><tr><td>39</td><td>239.2</td></tr><tr><td>49</td><td>213.47619047619048</td></tr><tr><td>51</td><td>175.88571428571427</td></tr><tr><td>69</td><td>156.23076923076923</td></tr><tr><td>63</td><td>157.6</td></tr><tr><td>77</td><td>237.5</td></tr><tr><td>50</td><td>199.2</td></tr><tr><td>45</td><td>229.33333333333334</td></tr><tr><td>38</td><td>146.5</td></tr><tr><td>73</td><td>0.0</td></tr><tr><td>70</td><td>171.71428571428572</td></tr><tr><td>62</td><td>166.74285714285713</td></tr><tr><td>29</td><td>236.66666666666666</td></tr><tr><td>60</td><td>167.65625</td></tr><tr><td>32</td><td>241.2</td></tr><tr><td>75</td><td>246.0</td></tr><tr><td>56</td><td>174.78947368421052</td></tr><tr><td>58</td><td>217.28571428571428</td></tr><tr><td>33</td><td>272.0</td></tr><tr><td>68</td><td>158.5</td></tr><tr><td>71</td><td>231.6</td></tr><tr><td>42</td><td>212.22222222222223</td></tr><tr><td>30</td><td>237.0</td></tr><tr><td>66</td><td>179.46153846153845</td></tr><tr><td>46</td><td>217.16666666666666</td></tr><tr><td>67</td><td>254.86666666666667</td></tr><tr><td>74</td><td>184.28571428571428</td></tr><tr><td>36</td><td>190.33333333333334</td></tr></tbody></table></div>"
      ]
     },
     "metadata": {
      "application/vnd.databricks.v1+output": {
       "addedWidgets": {},
       "aggData": [],
       "aggError": "",
       "aggOverflow": false,
       "aggSchema": [],
       "aggSeriesLimitReached": false,
       "aggType": "",
       "arguments": {},
       "columnCustomDisplayInfos": {},
       "data": [
        [
         31,
         244.5
        ],
        [
         65,
         207.57142857142858
        ],
        [
         53,
         181.03030303030303
        ],
        [
         34,
         163.28571428571428
        ],
        [
         28,
         132.0
        ],
        [
         76,
         155.0
        ],
        [
         44,
         249.57894736842104
        ],
        [
         47,
         193.42105263157896
        ],
        [
         52,
         200.27777777777777
        ],
        [
         40,
         229.3846153846154
        ],
        [
         57,
         202.31578947368422
        ],
        [
         54,
         231.98039215686273
        ],
        [
         48,
         228.19354838709677
        ],
        [
         64,
         205.3181818181818
        ],
        [
         41,
         216.5
        ],
        [
         43,
         202.33333333333334
        ],
        [
         37,
         233.72727272727272
        ],
        [
         61,
         162.58064516129033
        ],
        [
         72,
         137.0
        ],
        [
         35,
         197.45454545454547
        ],
        [
         59,
         175.71428571428572
        ],
        [
         55,
         218.46341463414635
        ],
        [
         39,
         239.2
        ],
        [
         49,
         213.47619047619048
        ],
        [
         51,
         175.88571428571427
        ],
        [
         69,
         156.23076923076923
        ],
        [
         63,
         157.6
        ],
        [
         77,
         237.5
        ],
        [
         50,
         199.2
        ],
        [
         45,
         229.33333333333334
        ],
        [
         38,
         146.5
        ],
        [
         73,
         0.0
        ],
        [
         70,
         171.71428571428572
        ],
        [
         62,
         166.74285714285713
        ],
        [
         29,
         236.66666666666666
        ],
        [
         60,
         167.65625
        ],
        [
         32,
         241.2
        ],
        [
         75,
         246.0
        ],
        [
         56,
         174.78947368421052
        ],
        [
         58,
         217.28571428571428
        ],
        [
         33,
         272.0
        ],
        [
         68,
         158.5
        ],
        [
         71,
         231.6
        ],
        [
         42,
         212.22222222222223
        ],
        [
         30,
         237.0
        ],
        [
         66,
         179.46153846153845
        ],
        [
         46,
         217.16666666666666
        ],
        [
         67,
         254.86666666666667
        ],
        [
         74,
         184.28571428571428
        ],
        [
         36,
         190.33333333333334
        ]
       ],
       "datasetInfos": [],
       "dbfsResultPath": null,
       "isJsonSchema": true,
       "metadata": {},
       "overflow": false,
       "plotOptions": {
        "customPlotOptions": {},
        "displayType": "table",
        "pivotAggregation": null,
        "pivotColumns": null,
        "xColumns": null,
        "yColumns": null
       },
       "removedWidgets": [],
       "schema": [
        {
         "metadata": "{}",
         "name": "Age",
         "type": "\"integer\""
        },
        {
         "metadata": "{}",
         "name": "Avg_Cholesterol",
         "type": "\"double\""
        }
       ],
       "type": "table"
      }
     },
     "output_type": "display_data"
    }
   ],
   "source": [
    "%sql\n",
    "-- Example query to show all data\n",
    "SELECT * FROM heart_data LIMIT 10;\n",
    "\n",
    "-- Example query to find the average cholesterol by age\n",
    "SELECT Age, AVG(Cholesterol) AS Avg_Cholesterol\n",
    "FROM heart_data\n",
    "GROUP BY Age;\n"
   ]
  },
  {
   "cell_type": "code",
   "execution_count": 0,
   "metadata": {
    "application/vnd.databricks.v1+cell": {
     "cellMetadata": {
      "byteLimit": 2048000,
      "rowLimit": 10000
     },
     "inputWidgets": {},
     "nuid": "4c5cbf40-62b2-4f00-80a5-bea913db8552",
     "showTitle": false,
     "title": ""
    }
   },
   "outputs": [
    {
     "output_type": "stream",
     "name": "stdout",
     "output_type": "stream",
     "text": [
      "+---+---+-------------+---------+-----------+---------+----------+-----+--------------+-------+--------+------------+\n|Age|Sex|ChestPainType|RestingBP|Cholesterol|FastingBS|RestingECG|MaxHR|ExerciseAngina|Oldpeak|ST_Slope|HeartDisease|\n+---+---+-------------+---------+-----------+---------+----------+-----+--------------+-------+--------+------------+\n|  0|  0|            0|        0|          0|        0|         0|    0|             0|      0|       0|           0|\n+---+---+-------------+---------+-----------+---------+----------+-----+--------------+-------+--------+------------+\n\n"
     ]
    }
   ],
   "source": [
    "from pyspark.sql.functions import count, when, isnull\n",
    "\n",
    "# Check for missing values in Python\n",
    "df.select([count(when(isnull(c), c)).alias(c) for c in df.columns]).show()\n"
   ]
  },
  {
   "cell_type": "code",
   "execution_count": 0,
   "metadata": {
    "application/vnd.databricks.v1+cell": {
     "cellMetadata": {
      "byteLimit": 2048000,
      "rowLimit": 10000
     },
     "inputWidgets": {},
     "nuid": "f9b46fb8-8cf9-4054-9da9-816651b2a383",
     "showTitle": false,
     "title": ""
    }
   },
   "outputs": [],
   "source": [
    "#Handling the categorical variables\n",
    "\n",
    "from pyspark.ml.feature import StringIndexer\n",
    "\n",
    "indexer = StringIndexer(inputCol=\"Sex\", outputCol=\"Sex_index\")\n",
    "indexer = StringIndexer(inputCol=\"ChestPainType\", outputCol=\"ChestPainType_index\")\n",
    "indexer = StringIndexer(inputCol=\"RestingECG\", outputCol=\"RestingECG_index\")\n",
    "indexer = StringIndexer(inputCol=\"ExerciseAngina\", outputCol=\"ExerciseAngina_index\")\n",
    "indexer = StringIndexer(inputCol=\"ST_Slope\", outputCol=\"ST_Slope_index\")\n",
    "\n",
    "df = indexer.fit(df).transform(df)"
   ]
  },
  {
   "cell_type": "code",
   "execution_count": 0,
   "metadata": {
    "application/vnd.databricks.v1+cell": {
     "cellMetadata": {
      "byteLimit": 2048000,
      "rowLimit": 10000
     },
     "inputWidgets": {},
     "nuid": "ecb14498-7038-4257-a81e-eebcb200c88e",
     "showTitle": false,
     "title": ""
    }
   },
   "outputs": [],
   "source": [
    "#Handling the numeric variables by scaling\n",
    "\n",
    "from pyspark.ml.feature import MinMaxScaler, VectorAssembler\n",
    "\n",
    "# Vectorize numeric columns\n",
    "numeric_columns = [\"RestingBP\", \"Cholesterol\", \"MaxHR\", \"Oldpeak\"]\n",
    "assembler = VectorAssembler(inputCols=numeric_columns, outputCol=\"numeric_features\")\n",
    "df_vector = assembler.transform(df)\n",
    "\n",
    "# Apply Min-Max Scaling\n",
    "scaler = MinMaxScaler(inputCol=\"numeric_features\", outputCol=\"scaled_numeric_features\")\n",
    "scaler_model = scaler.fit(df_vector)\n",
    "df_scaled = scaler_model.transform(df_vector)\n"
   ]
  },
  {
   "cell_type": "code",
   "execution_count": 0,
   "metadata": {
    "application/vnd.databricks.v1+cell": {
     "cellMetadata": {
      "byteLimit": 2048000,
      "rowLimit": 10000
     },
     "inputWidgets": {},
     "nuid": "07d5d792-a021-40b8-90c6-af667bf6c571",
     "showTitle": false,
     "title": ""
    }
   },
   "outputs": [],
   "source": [
    "#Splitting Data into Train and Test Sets\n",
    "train, test = df_scaled.randomSplit([0.8, 0.2], seed=123)"
   ]
  },
  {
   "cell_type": "code",
   "execution_count": 0,
   "metadata": {
    "application/vnd.databricks.v1+cell": {
     "cellMetadata": {
      "byteLimit": 2048000,
      "rowLimit": 10000
     },
     "inputWidgets": {},
     "nuid": "4967520d-6ab0-443d-b2d0-a792080d9730",
     "showTitle": false,
     "title": ""
    }
   },
   "outputs": [],
   "source": [
    "#preforming Logistic Regression on dataset\n",
    "from pyspark.ml.classification import LogisticRegression\n",
    "\n",
    "# Define the model\n",
    "lr = LogisticRegression(featuresCol=\"scaled_numeric_features\", labelCol=\"HeartDisease\")\n",
    "\n",
    "# Train the model\n",
    "lr_model = lr.fit(train)\n",
    "\n",
    "# Make predictions\n",
    "predictions = lr_model.transform(test)\n"
   ]
  },
  {
   "cell_type": "code",
   "execution_count": 0,
   "metadata": {
    "application/vnd.databricks.v1+cell": {
     "cellMetadata": {
      "byteLimit": 2048000,
      "rowLimit": 10000
     },
     "inputWidgets": {},
     "nuid": "c12cd6ab-8478-4d93-9042-a87740c3644f",
     "showTitle": false,
     "title": ""
    }
   },
   "outputs": [
    {
     "output_type": "stream",
     "name": "stdout",
     "output_type": "stream",
     "text": [
      "ROC-AUC: 0.7033788174139052\n"
     ]
    }
   ],
   "source": [
    "#Evaluating Model Performance\n",
    "from pyspark.ml.evaluation import BinaryClassificationEvaluator\n",
    "\n",
    "# Define evaluator\n",
    "evaluator = BinaryClassificationEvaluator(labelCol=\"HeartDisease\", rawPredictionCol=\"prediction\", metricName=\"areaUnderROC\")\n",
    "\n",
    "# Evaluate the model\n",
    "roc_auc = evaluator.evaluate(predictions)\n",
    "print(f\"ROC-AUC: {roc_auc}\")\n"
   ]
  },
  {
   "cell_type": "code",
   "execution_count": 0,
   "metadata": {
    "application/vnd.databricks.v1+cell": {
     "cellMetadata": {
      "byteLimit": 2048000,
      "rowLimit": 10000
     },
     "inputWidgets": {},
     "nuid": "0528c7e2-1b0d-46b4-85c0-4809501998e5",
     "showTitle": false,
     "title": ""
    }
   },
   "outputs": [
    {
     "output_type": "stream",
     "name": "stdout",
     "output_type": "stream",
     "text": [
      "Random Forest ROC-AUC: 0.7782651072124757\n"
     ]
    }
   ],
   "source": [
    "from pyspark.ml.classification import RandomForestClassifier\n",
    "\n",
    "rf = RandomForestClassifier(featuresCol=\"scaled_numeric_features\", labelCol=\"HeartDisease\")\n",
    "rf_model = rf.fit(train)\n",
    "rf_predictions = rf_model.transform(test)\n",
    "\n",
    "# Evaluate Random Forest model\n",
    "roc_auc_rf = evaluator.evaluate(rf_predictions)\n",
    "print(f\"Random Forest ROC-AUC: {roc_auc_rf}\")\n"
   ]
  },
  {
   "cell_type": "code",
   "execution_count": 0,
   "metadata": {
    "application/vnd.databricks.v1+cell": {
     "cellMetadata": {
      "byteLimit": 2048000,
      "rowLimit": 10000
     },
     "inputWidgets": {},
     "nuid": "6a1935b7-1ef1-4ac7-b870-33302374d37a",
     "showTitle": false,
     "title": ""
    }
   },
   "outputs": [
    {
     "output_type": "stream",
     "name": "stdout",
     "output_type": "stream",
     "text": [
      "Accuracy: 0.7846153846153846\n"
     ]
    }
   ],
   "source": [
    "from pyspark.ml.evaluation import MulticlassClassificationEvaluator\n",
    "\n",
    "# Evaluator for accuracy\n",
    "evaluator = MulticlassClassificationEvaluator(labelCol=\"HeartDisease\", predictionCol=\"prediction\", metricName=\"accuracy\")\n",
    "accuracy = evaluator.evaluate(predictions)\n",
    "print(f\"Accuracy: {accuracy}\")"
   ]
  },
  {
   "cell_type": "code",
   "execution_count": 0,
   "metadata": {
    "application/vnd.databricks.v1+cell": {
     "cellMetadata": {
      "byteLimit": 2048000,
      "rowLimit": 10000
     },
     "inputWidgets": {},
     "nuid": "3501e114-b66a-41e8-9d52-a099eeb47e71",
     "showTitle": false,
     "title": ""
    }
   },
   "outputs": [
    {
     "output_type": "stream",
     "name": "stdout",
     "output_type": "stream",
     "text": [
      "Precision: 0.7846153846153847\nRecall: 0.7846153846153847\nF1-Score: 0.7846153846153845\n"
     ]
    }
   ],
   "source": [
    "evaluator_precision = MulticlassClassificationEvaluator(labelCol=\"HeartDisease\", predictionCol=\"prediction\", metricName=\"weightedPrecision\")\n",
    "precision = evaluator_precision.evaluate(predictions)\n",
    "print(f\"Precision: {precision}\")\n",
    "\n",
    "# Recall\n",
    "evaluator_recall = MulticlassClassificationEvaluator(labelCol=\"HeartDisease\", predictionCol=\"prediction\", metricName=\"weightedRecall\")\n",
    "recall = evaluator_recall.evaluate(predictions)\n",
    "print(f\"Recall: {recall}\")\n",
    "\n",
    "# F1-Score\n",
    "evaluator_f1 = MulticlassClassificationEvaluator(labelCol=\"HeartDisease\", predictionCol=\"prediction\", metricName=\"f1\")\n",
    "f1_score = evaluator_f1.evaluate(predictions)\n",
    "print(f\"F1-Score: {f1_score}\")"
   ]
  },
  {
   "cell_type": "code",
   "execution_count": 0,
   "metadata": {
    "application/vnd.databricks.v1+cell": {
     "cellMetadata": {
      "byteLimit": 2048000,
      "rowLimit": 10000
     },
     "inputWidgets": {},
     "nuid": "7fb8b0f4-1f95-42da-8df4-ee4ad3e33715",
     "showTitle": false,
     "title": ""
    }
   },
   "outputs": [
    {
     "output_type": "stream",
     "name": "stdout",
     "output_type": "stream",
     "text": [
      "AUC (ROC): 0.8262941303876977\n"
     ]
    }
   ],
   "source": [
    "from pyspark.ml.evaluation import BinaryClassificationEvaluator\n",
    "\n",
    "# Evaluator for AUC\n",
    "evaluator_roc = BinaryClassificationEvaluator(labelCol=\"HeartDisease\", rawPredictionCol=\"rawPrediction\", metricName=\"areaUnderROC\")\n",
    "auc = evaluator_roc.evaluate(predictions)\n",
    "print(f\"AUC (ROC): {auc}\")"
   ]
  },
  {
   "cell_type": "code",
   "execution_count": 0,
   "metadata": {
    "application/vnd.databricks.v1+cell": {
     "cellMetadata": {
      "byteLimit": 2048000,
      "rowLimit": 10000
     },
     "inputWidgets": {},
     "nuid": "dc5211ed-41dd-4e43-81f3-f9f41b81ea00",
     "showTitle": false,
     "title": ""
    }
   },
   "outputs": [
    {
     "output_type": "display_data",
     "data": {
      "image/png": "[encoded data removed]"
     },
     "metadata": {
      "application/vnd.databricks.v1+output": {
       "addedWidgets": {},
       "arguments": {},
       "data": "data:image/png;base64,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\n",
       "datasetInfos": [],
       "metadata": {},
       "removedWidgets": [],
       "type": "image"
      }
     },
     "output_type": "display_data"
    }
   ],
   "source": [
    "import matplotlib.pyplot as plt\n",
    "import seaborn as sns\n",
    "\n",
    "# Distribution of Cholesterol based on Heart Disease\n",
    "plt.figure(figsize=(10, 6))\n",
    "sns.histplot(data=df.toPandas(), x=\"Cholesterol\", hue=\"HeartDisease\", kde=True, bins=30)\n",
    "plt.title(\"Cholesterol Distribution by Heart Disease\")\n",
    "plt.show()\n"
   ]
  },
  {
   "cell_type": "code",
   "execution_count": 0,
   "metadata": {
    "application/vnd.databricks.v1+cell": {
     "cellMetadata": {
      "byteLimit": 2048000,
      "rowLimit": 10000
     },
     "inputWidgets": {},
     "nuid": "3364638f-4018-4ba5-b96a-bb95d4b452b0",
     "showTitle": false,
     "title": ""
    }
   },
   "outputs": [
    {
     "output_type": "display_data",
     "data": {
      "image/png": "[encoded data removed]"
     },
     "metadata": {
      "application/vnd.databricks.v1+output": {
       "addedWidgets": {},
       "arguments": {},
       "data": "data:image/png;base64,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\n",
       "datasetInfos": [],
       "metadata": {},
       "removedWidgets": [],
       "type": "image"
      }
     },
     "output_type": "display_data"
    }
   ],
   "source": [
    "from sklearn.metrics import confusion_matrix\n",
    "import seaborn as sns\n",
    "\n",
    "# Assuming you've converted predictions to Pandas\n",
    "y_true = test.select(\"HeartDisease\").toPandas()\n",
    "y_pred = rf_predictions.select(\"prediction\").toPandas()\n",
    "\n",
    "# Confusion matrix\n",
    "cm = confusion_matrix(y_true, y_pred)\n",
    "\n",
    "# Plot confusion matrix\n",
    "plt.figure(figsize=(8, 6))\n",
    "sns.heatmap(cm, annot=True, fmt='d', cmap='Blues', cbar=False)\n",
    "plt.title('Confusion Matrix')\n",
    "plt.xlabel('Predicted Label')\n",
    "plt.ylabel('True Label')\n",
    "plt.show()\n"
   ]
  },
  {
   "cell_type": "code",
   "execution_count": 0,
   "metadata": {
    "application/vnd.databricks.v1+cell": {
     "cellMetadata": {
      "byteLimit": 2048000,
      "rowLimit": 10000
     },
     "inputWidgets": {},
     "nuid": "1f51cdab-9ed4-4de2-9e2a-3c2fc4c11f82",
     "showTitle": false,
     "title": ""
    }
   },
   "outputs": [
    {
     "output_type": "display_data",
     "data": {
      "image/png": "[encoded data removed]"
     },
     "metadata": {
      "application/vnd.databricks.v1+output": {
       "addedWidgets": {},
       "arguments": {},
       "data": "data:image/png;base64,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\n",
       "datasetInfos": [],
       "metadata": {},
       "removedWidgets": [],
       "type": "image"
      }
     },
     "output_type": "display_data"
    }
   ],
   "source": [
    "import seaborn as sns\n",
    "import matplotlib.pyplot as plt\n",
    "\n",
    "# Create a heatmap of correlation\n",
    "plt.figure(figsize=(10,8))\n",
    "sns.heatmap(df.toPandas().corr(), annot=True, cmap=\"coolwarm\")\n",
    "plt.title(\"Correlation Heatmap\")\n",
    "plt.show()"
   ]
  }
 ],
 "metadata": {
  "application/vnd.databricks.v1+notebook": {
   "dashboards": [],
   "environmentMetadata": null,
   "language": "python",
   "notebookMetadata": {
    "mostRecentlyExecutedCommandWithImplicitDF": {
     "commandId": 1201931956554392,
     "dataframes": [
      "_sqldf"
     ]
    },
    "pythonIndentUnit": 4
   },
   "notebookName": "Heart Data Analysis",
   "widgets": {}
  }
 },
 "nbformat": 4,
 "nbformat_minor": 0
}
